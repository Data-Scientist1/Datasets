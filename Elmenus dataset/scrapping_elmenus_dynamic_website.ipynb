{
 "cells": [
  {
   "cell_type": "markdown",
   "metadata": {},
   "source": [
    "## importing relavent libraries"
   ]
  },
  {
   "cell_type": "code",
   "execution_count": 2,
   "metadata": {},
   "outputs": [],
   "source": [
    "import requests as req\n",
    "from bs4 import BeautifulSoup as bs\n",
    "import pandas as pd\n",
    "import numpy as np\n",
    "import matplotlib.pyplot as plt\n",
    "import seaborn as sns\n",
    "\n",
    "from selenium import webdriver\n",
    "from selenium.webdriver.common.keys import Keys\n",
    "from selenium.webdriver.support import expected_conditions as EC \n",
    "from selenium.webdriver.support.wait import WebDriverWait\n",
    "from selenium.webdriver.common.by import By\n",
    "\n",
    "import os\n",
    "import wget\n",
    "import time\n",
    "\n",
    "sns.set()"
   ]
  },
  {
   "cell_type": "markdown",
   "metadata": {},
   "source": [
    "## setting up chrome driver"
   ]
  },
  {
   "cell_type": "code",
   "execution_count": 4,
   "metadata": {},
   "outputs": [
    {
     "name": "stderr",
     "output_type": "stream",
     "text": [
      "C:\\Users\\Repoo\\AppData\\Local\\Temp/ipykernel_6472/3774652601.py:1: DeprecationWarning: executable_path has been deprecated, please pass in a Service object\n",
      "  driver = webdriver.Chrome('chromedriver.exe')\n"
     ]
    }
   ],
   "source": [
    "driver = webdriver.Chrome('chromedriver.exe')\n",
    "driver.get('https://www.elmenus.com/cairo/delivery/nasr-city/features-order-online')"
   ]
  },
  {
   "cell_type": "markdown",
   "metadata": {},
   "source": [
    "## website processing"
   ]
  },
  {
   "cell_type": "code",
   "execution_count": 5,
   "metadata": {},
   "outputs": [],
   "source": [
    "#restaurant-card restaurant-delivery-card col-md-5 col-sm-8 col-xs-16\n",
    "\n",
    "html        = bs(driver.page_source, 'lxml')\n",
    "tags_slider = html.find('div', attrs={'id': 'tags-slider'})\n",
    "top_dishes  = tags_slider.find('div', attrs={'class': 'glider-track'})\n",
    "top_dishes  = [i.text.replace('\\n          ', '').strip().lower().strip(\"&\").replace(\" \", \"-\") for i in top_dishes]\n",
    "top_dishes = top_dishes[1:]"
   ]
  },
  {
   "cell_type": "markdown",
   "metadata": {},
   "source": [
    "## scraping the website and store the data in a dataframe"
   ]
  },
  {
   "cell_type": "code",
   "execution_count": 6,
   "metadata": {},
   "outputs": [],
   "source": [
    "df = pd.DataFrame([], columns=['name', 'image_url', 'description', 'likes', 'section_title', 'res_name', 'res_type', 'res_href', 'offer', 'delivery_time', 'res_ratting', 'res_reviews'])"
   ]
  },
  {
   "cell_type": "code",
   "execution_count": 7,
   "metadata": {},
   "outputs": [],
   "source": [
    "#get res based on res type on top dishes\n",
    "\n",
    "for i in top_dishes:\n",
    "    driver.get('https://www.elmenus.com/cairo/delivery/nasr-city/dish-' + i + '/features-order-online')\n",
    "    while True:\n",
    "        try:\n",
    "            load_more = WebDriverWait(driver, 10).until(EC.element_to_be_clickable((By.CSS_SELECTOR, \"button[class='btn btn-primary load-more-btn']\"))).click()\n",
    "            time.sleep(3)\n",
    "        except:\n",
    "            print('done')\n",
    "            break\n",
    "    #elmenus[i] = {}\n",
    "    html = bs(driver.page_source, 'lxml')\n",
    "    restaurants = html.find_all('div', attrs={'class': 'restaurant-card restaurant-delivery-card col-md-5 col-sm-8 col-xs-16'})\n",
    "    for j, res in enumerate(restaurants):\n",
    "        res_title = restaurants[j].find('h3', class_='card-title').string.strip()\n",
    "        res_href = restaurants[j].find('h3', class_='card-title').find('a')['href']\n",
    "        try:\n",
    "            offer = restaurants[j].find('div', class_='offer-text').string.strip()\n",
    "        except:\n",
    "            offer = 'NA'\n",
    "        delivery_time = restaurants[j].find('div', class_='card-footer').find('span').text.strip().replace('\\n\\n     ', '')\n",
    "        dishes  = []\n",
    "\n",
    "        driver.get('https://www.elmenus.com' + res_href)\n",
    "        time.sleep(3)\n",
    "        res_page = bs(driver.page_source, 'lxml')\n",
    "        cat_sections = res_page.find_all('div', class_='cat-section')\n",
    "        try:\n",
    "            res_ratting = res_page.find('span', class_='vue-star-rating-rating-text').text.strip()\n",
    "        except:\n",
    "            res_ratting = 0\n",
    "        try:\n",
    "            res_reviews = res_page.find('a', class_='reviews').text.strip().replace(\"( \", '').replace(\" )\", \"\")\n",
    "        except:\n",
    "            res_reviews = 0\n",
    "            \n",
    "        for k, sec in enumerate(cat_sections):\n",
    "            try:\n",
    "                section_title = cat_sections[k].find('h2', class_='section-title').text.strip()\n",
    "            except:\n",
    "                section_title = cat_sections[k].find('h3', class_='section-title').text.strip().replace('\\n                  ', '')\n",
    "            sec_body = cat_sections[k].find('div', class_=\"section-body\").find_all('div', recursive=False)\n",
    "            \n",
    "            for m in sec_body:\n",
    "                name = m.find('h5', class_='title').text.strip()\n",
    "                try:\n",
    "                    image_url = m.find('img')['data-src']\n",
    "                except:\n",
    "                    image_url = 'NA'\n",
    "                try:\n",
    "                    description = m.find('p', class_='description').text.strip()\n",
    "                except:\n",
    "                    description = 'NA'\n",
    "                try:\n",
    "                    price = m.find('p', class_='price').find('span', class_='bold').text.strip().replace('\\n                     ', '')\n",
    "                except:\n",
    "                    price = 0\n",
    "                try:\n",
    "                    likes = m.find('span', class_='count').text.strip()\n",
    "                except:\n",
    "                    likes = 0\n",
    "                \n",
    "                df.loc[-1] = [name, image_url, description, likes, section_title, res_title, i, res_href, offer, delivery_time, res_ratting, res_reviews]\n",
    "                df.index = df.index + 1\n",
    "                df = df.sort_index()"
   ]
  },
  {
   "cell_type": "markdown",
   "metadata": {},
   "source": [
    "## create a csv file with the scrapped data"
   ]
  },
  {
   "cell_type": "code",
   "execution_count": 1,
   "metadata": {},
   "outputs": [
    {
     "ename": "NameError",
     "evalue": "name 'df' is not defined",
     "output_type": "error",
     "traceback": [
      "\u001b[1;31m---------------------------------------------------------------------------\u001b[0m",
      "\u001b[1;31mNameError\u001b[0m                                 Traceback (most recent call last)",
      "\u001b[1;32m~\\AppData\\Local\\Temp/ipykernel_3392/2655800210.py\u001b[0m in \u001b[0;36m<module>\u001b[1;34m\u001b[0m\n\u001b[1;32m----> 1\u001b[1;33m \u001b[0mdf\u001b[0m\u001b[1;33m.\u001b[0m\u001b[0mto_csv\u001b[0m\u001b[1;33m(\u001b[0m\u001b[1;34m'elmenus2.csv'\u001b[0m\u001b[1;33m)\u001b[0m\u001b[1;33m\u001b[0m\u001b[1;33m\u001b[0m\u001b[0m\n\u001b[0m",
      "\u001b[1;31mNameError\u001b[0m: name 'df' is not defined"
     ]
    }
   ],
   "source": [
    "df.to_csv('elmenus_new.csv')"
   ]
  }
 ],
 "metadata": {
  "interpreter": {
   "hash": "4e8ad353d2229bacfcbbf70d956c578ac0868e1d16705e8b9d7243d5d3c99a8e"
  },
  "kernelspec": {
   "display_name": "Python 3.9.7 64-bit",
   "language": "python",
   "name": "python3"
  },
  "language_info": {
   "codemirror_mode": {
    "name": "ipython",
    "version": 3
   },
   "file_extension": ".py",
   "mimetype": "text/x-python",
   "name": "python",
   "nbconvert_exporter": "python",
   "pygments_lexer": "ipython3",
   "version": "3.9.7"
  },
  "orig_nbformat": 4
 },
 "nbformat": 4,
 "nbformat_minor": 2
}
